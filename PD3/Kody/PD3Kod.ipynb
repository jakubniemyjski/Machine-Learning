{
 "cells": [
  {
   "cell_type": "code",
   "execution_count": 2,
   "id": "c39dc7ed",
   "metadata": {},
   "outputs": [],
   "source": [
    "import numpy as np\n",
    "import pandas as pd\n",
    "import seaborn as sns\n",
    "import matplotlib.pyplot as plt"
   ]
  },
  {
   "cell_type": "markdown",
   "id": "ccfc2fff",
   "metadata": {},
   "source": [
    "# Implementacja metody knn"
   ]
  },
  {
   "cell_type": "code",
   "execution_count": 3,
   "id": "e588f9e2",
   "metadata": {},
   "outputs": [],
   "source": [
    "def knn(X, y, Z, k, p=2):\n",
    "    \"\"\"\n",
    "    X- training attributes (np.ndarray)\n",
    "    y - training labels (np.ndarray one dimensional)\n",
    "    Z - test attributes (np.ndarray)\n",
    "    k - quantity of searched nearest neighbours (natural positive number)\n",
    "    p - p-norm used in measuring distance between observations\n",
    "    \"\"\"\n",
    "    # sprawdzenie poprawności danych wejściowych\n",
    "    assert isinstance(X, np.ndarray) and isinstance(y, np.ndarray) and isinstance(Z, np.ndarray), 'Błędny typ danych'\n",
    "    (n,r) = X.shape\n",
    "    assert y.shape[0] == n, \"Nieodpowiedni rozmiar y w stosunku do X\"\n",
    "    (m,l1) = Z.shape\n",
    "    assert l1 == r, \"Nieodpowiednia liczba kolumn Z w stosunku do X\"\n",
    "    assert p == 'infty' or p >= 1, \"Nieodpowiednia wartość normy\"\n",
    "    assert 1 <= k and k <= n and k == np.floor(k),'Nieodpowiednia wartość k'\n",
    "    \n",
    "    # algorytm\n",
    "    result = np.zeros(m)\n",
    "    for i ,elZ in enumerate(Z):\n",
    "        dist = np.zeros(n)\n",
    "        for j, elX in enumerate(X):\n",
    "            dist[j] = lp_distance(elZ,elX,p)\n",
    "        idx_full_list = np.argsort(dist)\n",
    "        idx = idx_full_list[:k]\n",
    "        unique_values, counts = np.unique(y[idx], return_counts=True)\n",
    "        max_count = np.max(counts)\n",
    "        modes = unique_values[counts == max_count]\n",
    "        result[i] = np.random.choice(modes)\n",
    "    return result\n",
    "        \n",
    "    \n",
    "    \n",
    "def lp_distance(point1, point2, p=2):\n",
    "    if p == 'infty':\n",
    "        return np.max(np.abs(point1 - point2))\n",
    "\n",
    "    return np.power(np.sum(np.power(np.abs(point1 - point2), p)), 1/p)"
   ]
  },
  {
   "cell_type": "markdown",
   "id": "44af2863",
   "metadata": {},
   "source": [
    "# Sprawdzenie poprawności działania\n",
    "## 1. Tożsamy zbiór treningowy i testowy , 1-NN"
   ]
  },
  {
   "cell_type": "code",
   "execution_count": null,
   "id": "6a18d2c1",
   "metadata": {},
   "outputs": [],
   "source": [
    "random_matrix = np.random.rand(1000, 2)\n",
    "random_labels = np.random.randint(1,11,size=(1000))"
   ]
  },
  {
   "cell_type": "code",
   "execution_count": null,
   "id": "cdc51363",
   "metadata": {},
   "outputs": [],
   "source": [
    "for p in [1,2,'infty']:\n",
    "    print(f'Dla normy p={p}: ', np.all(knn(random_matrix,random_labels,random_matrix,1,p) == random_labels))"
   ]
  },
  {
   "cell_type": "markdown",
   "id": "7d226db9",
   "metadata": {},
   "source": [
    "## 2. Mniejszy, prostszy zbiór danych uczących do manualnego sprawdzenia"
   ]
  },
  {
   "cell_type": "code",
   "execution_count": null,
   "id": "3ca0d085",
   "metadata": {},
   "outputs": [],
   "source": [
    "np.random.seed(311052)"
   ]
  },
  {
   "cell_type": "code",
   "execution_count": null,
   "id": "c1ad87b0",
   "metadata": {},
   "outputs": [],
   "source": [
    "X = np.random.randint(-4,5,size = (10,2))"
   ]
  },
  {
   "cell_type": "code",
   "execution_count": null,
   "id": "5a750d5d",
   "metadata": {},
   "outputs": [],
   "source": [
    "Z = np.random.randint(-4,5,size = (5,2))"
   ]
  },
  {
   "cell_type": "code",
   "execution_count": null,
   "id": "c6bc54cd",
   "metadata": {},
   "outputs": [],
   "source": [
    "labels_train = np.random.randint(1,3,size=(15))"
   ]
  },
  {
   "cell_type": "code",
   "execution_count": null,
   "id": "b469e027",
   "metadata": {},
   "outputs": [],
   "source": [
    "def plot_one_ex2(i):\n",
    "    # i dopuszczalne to 0,1,2,3,4\n",
    "    x_data = np.concatenate((X[:,0],Z[:,0]))\n",
    "    y_data = np.concatenate((X[:,1],Z[:,1]))\n",
    "    train_or_test = np.zeros(len(X) + len(Z),dtype=int)\n",
    "    train_or_test[:10] = 1\n",
    "    train_or_test[10+i] = -1\n",
    "    data = pd.DataFrame({'X': x_data, 'Y': y_data,'target_labels':labels_train,'Z': train_or_test, 'label' : labels_train*train_or_test})\n",
    "    colors = data.iloc[[0,1,2,3,4,5,6,7,8,9,10+i],4]\n",
    "    custom_palette = sns.color_palette(\"Set1\", len(set(colors)))\n",
    "    sns.scatterplot(data=data.iloc[[0,1,2,3,4,5,6,7,8,9,10+i],:], x = 'X', y='Y', hue = 'label', palette=custom_palette)\n",
    "    plt.grid(color='gray',linestyle='--', linewidth=0.5)"
   ]
  },
  {
   "cell_type": "code",
   "execution_count": null,
   "id": "f9fdc268",
   "metadata": {},
   "outputs": [],
   "source": [
    "plot_one_ex2(1)\n",
    "plt.savefig('first.png')"
   ]
  },
  {
   "cell_type": "code",
   "execution_count": null,
   "id": "54790893",
   "metadata": {},
   "outputs": [],
   "source": [
    "plot_one_ex2(2)\n",
    "plt.savefig('second.png')"
   ]
  },
  {
   "cell_type": "code",
   "execution_count": null,
   "id": "0aede7dd",
   "metadata": {
    "scrolled": true
   },
   "outputs": [],
   "source": [
    "plot_one_ex2(3)\n",
    "plt.savefig('third.png')"
   ]
  },
  {
   "cell_type": "code",
   "execution_count": null,
   "id": "88f85f18",
   "metadata": {},
   "outputs": [],
   "source": [
    "for k in [1,2,3]:\n",
    "    print('Dla k=', k)\n",
    "    for p in [1,2,'infty']:\n",
    "        print(f'Dla p={p}: ', knn(X,labels_train[:10],Z[1:4],1,p))\n",
    "    print()"
   ]
  },
  {
   "cell_type": "markdown",
   "id": "bf55c71e",
   "metadata": {},
   "source": [
    "# Część 3"
   ]
  },
  {
   "cell_type": "markdown",
   "id": "14209e5e",
   "metadata": {},
   "source": [
    "## Zestawienie z narzędziem sci-kit"
   ]
  },
  {
   "cell_type": "code",
   "execution_count": 6,
   "id": "19664089",
   "metadata": {},
   "outputs": [
    {
     "name": "stdout",
     "output_type": "stream",
     "text": [
      "<class 'pandas.core.frame.DataFrame'>\n",
      "RangeIndex: 768 entries, 0 to 767\n",
      "Data columns (total 9 columns):\n",
      " #   Column                    Non-Null Count  Dtype  \n",
      "---  ------                    --------------  -----  \n",
      " 0   Pregnancies               768 non-null    int64  \n",
      " 1   Glucose                   768 non-null    int64  \n",
      " 2   BloodPressure             768 non-null    int64  \n",
      " 3   SkinThickness             768 non-null    int64  \n",
      " 4   Insulin                   768 non-null    int64  \n",
      " 5   BMI                       768 non-null    float64\n",
      " 6   DiabetesPedigreeFunction  768 non-null    float64\n",
      " 7   Age                       768 non-null    int64  \n",
      " 8   Outcome                   768 non-null    int64  \n",
      "dtypes: float64(2), int64(7)\n",
      "memory usage: 54.1 KB\n"
     ]
    }
   ],
   "source": [
    "df = pd.read_csv('pima.csv')\n",
    "df.info()"
   ]
  },
  {
   "cell_type": "code",
   "execution_count": 9,
   "id": "fe127ec6",
   "metadata": {},
   "outputs": [],
   "source": [
    "df_X = df.drop(columns=['Outcome'])\n",
    "y = df.Outcome"
   ]
  },
  {
   "cell_type": "code",
   "execution_count": 16,
   "id": "b6803b7e",
   "metadata": {},
   "outputs": [],
   "source": [
    "from sklearn.compose import ColumnTransformer\n",
    "from sklearn.preprocessing import StandardScaler\n",
    "from sklearn.model_selection import train_test_split\n",
    "\n",
    "column_transformer = ColumnTransformer(\n",
    "    transformers=[\n",
    "        ('scaler', StandardScaler(), df_X.columns)\n",
    "    ],\n",
    "    remainder='passthrough'  # Passthrough pozostałych kolumn niezmienionych\n",
    ")\n",
    "\n",
    "# Zastosowanie transformacji\n",
    "normalized_data = column_transformer.fit_transform(df_X)\n",
    "\n",
    "# Konwersja wyników z powrotem do ramki danych\n",
    "X = pd.DataFrame(normalized_data, columns=df_X.columns)\n",
    "\n",
    "\n",
    "X_train, X_test, y_train, y_test = train_test_split(X, y, test_size=0.2, random_state=311052)\n"
   ]
  },
  {
   "cell_type": "code",
   "execution_count": 69,
   "id": "b2ac0b06",
   "metadata": {},
   "outputs": [
    {
     "name": "stderr",
     "output_type": "stream",
     "text": [
      "C:\\Users\\Kuba\\anaconda3\\lib\\site-packages\\sklearn\\neighbors\\_classification.py:211: FutureWarning: Unlike other reduction functions (e.g. `skew`, `kurtosis`), the default behavior of `mode` typically preserves the axis it acts along. In SciPy 1.11.0, this behavior will change: the default value of `keepdims` will become False, the `axis` over which the statistic is taken will be eliminated, and the value None will no longer be accepted. Set `keepdims` to True or False to avoid this warning.\n",
      "  mode, _ = stats.mode(_y[neigh_ind, k], axis=1)\n"
     ]
    },
    {
     "name": "stdout",
     "output_type": "stream",
     "text": [
      "neighbours: 1; p: 1 1.0\n"
     ]
    },
    {
     "name": "stderr",
     "output_type": "stream",
     "text": [
      "C:\\Users\\Kuba\\anaconda3\\lib\\site-packages\\sklearn\\neighbors\\_classification.py:211: FutureWarning: Unlike other reduction functions (e.g. `skew`, `kurtosis`), the default behavior of `mode` typically preserves the axis it acts along. In SciPy 1.11.0, this behavior will change: the default value of `keepdims` will become False, the `axis` over which the statistic is taken will be eliminated, and the value None will no longer be accepted. Set `keepdims` to True or False to avoid this warning.\n",
      "  mode, _ = stats.mode(_y[neigh_ind, k], axis=1)\n"
     ]
    },
    {
     "name": "stdout",
     "output_type": "stream",
     "text": [
      "neighbours: 1; p: 2 1.0\n"
     ]
    },
    {
     "name": "stderr",
     "output_type": "stream",
     "text": [
      "C:\\Users\\Kuba\\anaconda3\\lib\\site-packages\\sklearn\\neighbors\\_classification.py:211: FutureWarning: Unlike other reduction functions (e.g. `skew`, `kurtosis`), the default behavior of `mode` typically preserves the axis it acts along. In SciPy 1.11.0, this behavior will change: the default value of `keepdims` will become False, the `axis` over which the statistic is taken will be eliminated, and the value None will no longer be accepted. Set `keepdims` to True or False to avoid this warning.\n",
      "  mode, _ = stats.mode(_y[neigh_ind, k], axis=1)\n"
     ]
    },
    {
     "name": "stdout",
     "output_type": "stream",
     "text": [
      "neighbours: 1; p: 3 1.0\n"
     ]
    },
    {
     "name": "stderr",
     "output_type": "stream",
     "text": [
      "C:\\Users\\Kuba\\anaconda3\\lib\\site-packages\\sklearn\\neighbors\\_classification.py:211: FutureWarning: Unlike other reduction functions (e.g. `skew`, `kurtosis`), the default behavior of `mode` typically preserves the axis it acts along. In SciPy 1.11.0, this behavior will change: the default value of `keepdims` will become False, the `axis` over which the statistic is taken will be eliminated, and the value None will no longer be accepted. Set `keepdims` to True or False to avoid this warning.\n",
      "  mode, _ = stats.mode(_y[neigh_ind, k], axis=1)\n"
     ]
    },
    {
     "name": "stdout",
     "output_type": "stream",
     "text": [
      "neighbours: 1; p: 4 1.0\n"
     ]
    },
    {
     "name": "stderr",
     "output_type": "stream",
     "text": [
      "C:\\Users\\Kuba\\anaconda3\\lib\\site-packages\\sklearn\\neighbors\\_classification.py:211: FutureWarning: Unlike other reduction functions (e.g. `skew`, `kurtosis`), the default behavior of `mode` typically preserves the axis it acts along. In SciPy 1.11.0, this behavior will change: the default value of `keepdims` will become False, the `axis` over which the statistic is taken will be eliminated, and the value None will no longer be accepted. Set `keepdims` to True or False to avoid this warning.\n",
      "  mode, _ = stats.mode(_y[neigh_ind, k], axis=1)\n"
     ]
    },
    {
     "name": "stdout",
     "output_type": "stream",
     "text": [
      "neighbours: 1; p: 5 1.0\n"
     ]
    },
    {
     "name": "stderr",
     "output_type": "stream",
     "text": [
      "C:\\Users\\Kuba\\anaconda3\\lib\\site-packages\\sklearn\\neighbors\\_classification.py:211: FutureWarning: Unlike other reduction functions (e.g. `skew`, `kurtosis`), the default behavior of `mode` typically preserves the axis it acts along. In SciPy 1.11.0, this behavior will change: the default value of `keepdims` will become False, the `axis` over which the statistic is taken will be eliminated, and the value None will no longer be accepted. Set `keepdims` to True or False to avoid this warning.\n",
      "  mode, _ = stats.mode(_y[neigh_ind, k], axis=1)\n"
     ]
    },
    {
     "name": "stdout",
     "output_type": "stream",
     "text": [
      "neighbours: 3; p: 1 1.0\n"
     ]
    },
    {
     "name": "stderr",
     "output_type": "stream",
     "text": [
      "C:\\Users\\Kuba\\anaconda3\\lib\\site-packages\\sklearn\\neighbors\\_classification.py:211: FutureWarning: Unlike other reduction functions (e.g. `skew`, `kurtosis`), the default behavior of `mode` typically preserves the axis it acts along. In SciPy 1.11.0, this behavior will change: the default value of `keepdims` will become False, the `axis` over which the statistic is taken will be eliminated, and the value None will no longer be accepted. Set `keepdims` to True or False to avoid this warning.\n",
      "  mode, _ = stats.mode(_y[neigh_ind, k], axis=1)\n"
     ]
    },
    {
     "name": "stdout",
     "output_type": "stream",
     "text": [
      "neighbours: 3; p: 2 1.0\n"
     ]
    },
    {
     "name": "stderr",
     "output_type": "stream",
     "text": [
      "C:\\Users\\Kuba\\anaconda3\\lib\\site-packages\\sklearn\\neighbors\\_classification.py:211: FutureWarning: Unlike other reduction functions (e.g. `skew`, `kurtosis`), the default behavior of `mode` typically preserves the axis it acts along. In SciPy 1.11.0, this behavior will change: the default value of `keepdims` will become False, the `axis` over which the statistic is taken will be eliminated, and the value None will no longer be accepted. Set `keepdims` to True or False to avoid this warning.\n",
      "  mode, _ = stats.mode(_y[neigh_ind, k], axis=1)\n"
     ]
    },
    {
     "name": "stdout",
     "output_type": "stream",
     "text": [
      "neighbours: 3; p: 3 1.0\n"
     ]
    },
    {
     "name": "stderr",
     "output_type": "stream",
     "text": [
      "C:\\Users\\Kuba\\anaconda3\\lib\\site-packages\\sklearn\\neighbors\\_classification.py:211: FutureWarning: Unlike other reduction functions (e.g. `skew`, `kurtosis`), the default behavior of `mode` typically preserves the axis it acts along. In SciPy 1.11.0, this behavior will change: the default value of `keepdims` will become False, the `axis` over which the statistic is taken will be eliminated, and the value None will no longer be accepted. Set `keepdims` to True or False to avoid this warning.\n",
      "  mode, _ = stats.mode(_y[neigh_ind, k], axis=1)\n"
     ]
    },
    {
     "name": "stdout",
     "output_type": "stream",
     "text": [
      "neighbours: 3; p: 4 1.0\n"
     ]
    },
    {
     "name": "stderr",
     "output_type": "stream",
     "text": [
      "C:\\Users\\Kuba\\anaconda3\\lib\\site-packages\\sklearn\\neighbors\\_classification.py:211: FutureWarning: Unlike other reduction functions (e.g. `skew`, `kurtosis`), the default behavior of `mode` typically preserves the axis it acts along. In SciPy 1.11.0, this behavior will change: the default value of `keepdims` will become False, the `axis` over which the statistic is taken will be eliminated, and the value None will no longer be accepted. Set `keepdims` to True or False to avoid this warning.\n",
      "  mode, _ = stats.mode(_y[neigh_ind, k], axis=1)\n"
     ]
    },
    {
     "name": "stdout",
     "output_type": "stream",
     "text": [
      "neighbours: 3; p: 5 0.8441558441558441\n"
     ]
    },
    {
     "name": "stderr",
     "output_type": "stream",
     "text": [
      "C:\\Users\\Kuba\\anaconda3\\lib\\site-packages\\sklearn\\neighbors\\_classification.py:211: FutureWarning: Unlike other reduction functions (e.g. `skew`, `kurtosis`), the default behavior of `mode` typically preserves the axis it acts along. In SciPy 1.11.0, this behavior will change: the default value of `keepdims` will become False, the `axis` over which the statistic is taken will be eliminated, and the value None will no longer be accepted. Set `keepdims` to True or False to avoid this warning.\n",
      "  mode, _ = stats.mode(_y[neigh_ind, k], axis=1)\n"
     ]
    },
    {
     "name": "stdout",
     "output_type": "stream",
     "text": [
      "neighbours: 5; p: 1 1.0\n"
     ]
    },
    {
     "name": "stderr",
     "output_type": "stream",
     "text": [
      "C:\\Users\\Kuba\\anaconda3\\lib\\site-packages\\sklearn\\neighbors\\_classification.py:211: FutureWarning: Unlike other reduction functions (e.g. `skew`, `kurtosis`), the default behavior of `mode` typically preserves the axis it acts along. In SciPy 1.11.0, this behavior will change: the default value of `keepdims` will become False, the `axis` over which the statistic is taken will be eliminated, and the value None will no longer be accepted. Set `keepdims` to True or False to avoid this warning.\n",
      "  mode, _ = stats.mode(_y[neigh_ind, k], axis=1)\n"
     ]
    },
    {
     "name": "stdout",
     "output_type": "stream",
     "text": [
      "neighbours: 5; p: 2 1.0\n"
     ]
    },
    {
     "name": "stderr",
     "output_type": "stream",
     "text": [
      "C:\\Users\\Kuba\\anaconda3\\lib\\site-packages\\sklearn\\neighbors\\_classification.py:211: FutureWarning: Unlike other reduction functions (e.g. `skew`, `kurtosis`), the default behavior of `mode` typically preserves the axis it acts along. In SciPy 1.11.0, this behavior will change: the default value of `keepdims` will become False, the `axis` over which the statistic is taken will be eliminated, and the value None will no longer be accepted. Set `keepdims` to True or False to avoid this warning.\n",
      "  mode, _ = stats.mode(_y[neigh_ind, k], axis=1)\n"
     ]
    },
    {
     "name": "stdout",
     "output_type": "stream",
     "text": [
      "neighbours: 5; p: 3 1.0\n"
     ]
    },
    {
     "name": "stderr",
     "output_type": "stream",
     "text": [
      "C:\\Users\\Kuba\\anaconda3\\lib\\site-packages\\sklearn\\neighbors\\_classification.py:211: FutureWarning: Unlike other reduction functions (e.g. `skew`, `kurtosis`), the default behavior of `mode` typically preserves the axis it acts along. In SciPy 1.11.0, this behavior will change: the default value of `keepdims` will become False, the `axis` over which the statistic is taken will be eliminated, and the value None will no longer be accepted. Set `keepdims` to True or False to avoid this warning.\n",
      "  mode, _ = stats.mode(_y[neigh_ind, k], axis=1)\n"
     ]
    },
    {
     "name": "stdout",
     "output_type": "stream",
     "text": [
      "neighbours: 5; p: 4 0.8441558441558441\n"
     ]
    },
    {
     "name": "stderr",
     "output_type": "stream",
     "text": [
      "C:\\Users\\Kuba\\anaconda3\\lib\\site-packages\\sklearn\\neighbors\\_classification.py:211: FutureWarning: Unlike other reduction functions (e.g. `skew`, `kurtosis`), the default behavior of `mode` typically preserves the axis it acts along. In SciPy 1.11.0, this behavior will change: the default value of `keepdims` will become False, the `axis` over which the statistic is taken will be eliminated, and the value None will no longer be accepted. Set `keepdims` to True or False to avoid this warning.\n",
      "  mode, _ = stats.mode(_y[neigh_ind, k], axis=1)\n"
     ]
    },
    {
     "name": "stdout",
     "output_type": "stream",
     "text": [
      "neighbours: 5; p: 5 0.8246753246753247\n"
     ]
    },
    {
     "name": "stderr",
     "output_type": "stream",
     "text": [
      "C:\\Users\\Kuba\\anaconda3\\lib\\site-packages\\sklearn\\neighbors\\_classification.py:211: FutureWarning: Unlike other reduction functions (e.g. `skew`, `kurtosis`), the default behavior of `mode` typically preserves the axis it acts along. In SciPy 1.11.0, this behavior will change: the default value of `keepdims` will become False, the `axis` over which the statistic is taken will be eliminated, and the value None will no longer be accepted. Set `keepdims` to True or False to avoid this warning.\n",
      "  mode, _ = stats.mode(_y[neigh_ind, k], axis=1)\n"
     ]
    },
    {
     "name": "stdout",
     "output_type": "stream",
     "text": [
      "neighbours: 7; p: 1 1.0\n"
     ]
    },
    {
     "name": "stderr",
     "output_type": "stream",
     "text": [
      "C:\\Users\\Kuba\\anaconda3\\lib\\site-packages\\sklearn\\neighbors\\_classification.py:211: FutureWarning: Unlike other reduction functions (e.g. `skew`, `kurtosis`), the default behavior of `mode` typically preserves the axis it acts along. In SciPy 1.11.0, this behavior will change: the default value of `keepdims` will become False, the `axis` over which the statistic is taken will be eliminated, and the value None will no longer be accepted. Set `keepdims` to True or False to avoid this warning.\n",
      "  mode, _ = stats.mode(_y[neigh_ind, k], axis=1)\n"
     ]
    },
    {
     "name": "stdout",
     "output_type": "stream",
     "text": [
      "neighbours: 7; p: 2 1.0\n"
     ]
    },
    {
     "name": "stderr",
     "output_type": "stream",
     "text": [
      "C:\\Users\\Kuba\\anaconda3\\lib\\site-packages\\sklearn\\neighbors\\_classification.py:211: FutureWarning: Unlike other reduction functions (e.g. `skew`, `kurtosis`), the default behavior of `mode` typically preserves the axis it acts along. In SciPy 1.11.0, this behavior will change: the default value of `keepdims` will become False, the `axis` over which the statistic is taken will be eliminated, and the value None will no longer be accepted. Set `keepdims` to True or False to avoid this warning.\n",
      "  mode, _ = stats.mode(_y[neigh_ind, k], axis=1)\n"
     ]
    },
    {
     "name": "stdout",
     "output_type": "stream",
     "text": [
      "neighbours: 7; p: 3 0.8441558441558441\n"
     ]
    },
    {
     "name": "stderr",
     "output_type": "stream",
     "text": [
      "C:\\Users\\Kuba\\anaconda3\\lib\\site-packages\\sklearn\\neighbors\\_classification.py:211: FutureWarning: Unlike other reduction functions (e.g. `skew`, `kurtosis`), the default behavior of `mode` typically preserves the axis it acts along. In SciPy 1.11.0, this behavior will change: the default value of `keepdims` will become False, the `axis` over which the statistic is taken will be eliminated, and the value None will no longer be accepted. Set `keepdims` to True or False to avoid this warning.\n",
      "  mode, _ = stats.mode(_y[neigh_ind, k], axis=1)\n"
     ]
    },
    {
     "name": "stdout",
     "output_type": "stream",
     "text": [
      "neighbours: 7; p: 4 0.8246753246753247\n"
     ]
    },
    {
     "name": "stderr",
     "output_type": "stream",
     "text": [
      "C:\\Users\\Kuba\\anaconda3\\lib\\site-packages\\sklearn\\neighbors\\_classification.py:211: FutureWarning: Unlike other reduction functions (e.g. `skew`, `kurtosis`), the default behavior of `mode` typically preserves the axis it acts along. In SciPy 1.11.0, this behavior will change: the default value of `keepdims` will become False, the `axis` over which the statistic is taken will be eliminated, and the value None will no longer be accepted. Set `keepdims` to True or False to avoid this warning.\n",
      "  mode, _ = stats.mode(_y[neigh_ind, k], axis=1)\n"
     ]
    },
    {
     "name": "stdout",
     "output_type": "stream",
     "text": [
      "neighbours: 7; p: 5 0.8181818181818182\n"
     ]
    },
    {
     "name": "stderr",
     "output_type": "stream",
     "text": [
      "C:\\Users\\Kuba\\anaconda3\\lib\\site-packages\\sklearn\\neighbors\\_classification.py:211: FutureWarning: Unlike other reduction functions (e.g. `skew`, `kurtosis`), the default behavior of `mode` typically preserves the axis it acts along. In SciPy 1.11.0, this behavior will change: the default value of `keepdims` will become False, the `axis` over which the statistic is taken will be eliminated, and the value None will no longer be accepted. Set `keepdims` to True or False to avoid this warning.\n",
      "  mode, _ = stats.mode(_y[neigh_ind, k], axis=1)\n"
     ]
    },
    {
     "name": "stdout",
     "output_type": "stream",
     "text": [
      "neighbours: 9; p: 1 1.0\n"
     ]
    },
    {
     "name": "stderr",
     "output_type": "stream",
     "text": [
      "C:\\Users\\Kuba\\anaconda3\\lib\\site-packages\\sklearn\\neighbors\\_classification.py:211: FutureWarning: Unlike other reduction functions (e.g. `skew`, `kurtosis`), the default behavior of `mode` typically preserves the axis it acts along. In SciPy 1.11.0, this behavior will change: the default value of `keepdims` will become False, the `axis` over which the statistic is taken will be eliminated, and the value None will no longer be accepted. Set `keepdims` to True or False to avoid this warning.\n",
      "  mode, _ = stats.mode(_y[neigh_ind, k], axis=1)\n"
     ]
    },
    {
     "name": "stdout",
     "output_type": "stream",
     "text": [
      "neighbours: 9; p: 2 0.8441558441558441\n"
     ]
    },
    {
     "name": "stderr",
     "output_type": "stream",
     "text": [
      "C:\\Users\\Kuba\\anaconda3\\lib\\site-packages\\sklearn\\neighbors\\_classification.py:211: FutureWarning: Unlike other reduction functions (e.g. `skew`, `kurtosis`), the default behavior of `mode` typically preserves the axis it acts along. In SciPy 1.11.0, this behavior will change: the default value of `keepdims` will become False, the `axis` over which the statistic is taken will be eliminated, and the value None will no longer be accepted. Set `keepdims` to True or False to avoid this warning.\n",
      "  mode, _ = stats.mode(_y[neigh_ind, k], axis=1)\n"
     ]
    },
    {
     "name": "stdout",
     "output_type": "stream",
     "text": [
      "neighbours: 9; p: 3 0.8246753246753247\n"
     ]
    },
    {
     "name": "stderr",
     "output_type": "stream",
     "text": [
      "C:\\Users\\Kuba\\anaconda3\\lib\\site-packages\\sklearn\\neighbors\\_classification.py:211: FutureWarning: Unlike other reduction functions (e.g. `skew`, `kurtosis`), the default behavior of `mode` typically preserves the axis it acts along. In SciPy 1.11.0, this behavior will change: the default value of `keepdims` will become False, the `axis` over which the statistic is taken will be eliminated, and the value None will no longer be accepted. Set `keepdims` to True or False to avoid this warning.\n",
      "  mode, _ = stats.mode(_y[neigh_ind, k], axis=1)\n"
     ]
    },
    {
     "name": "stdout",
     "output_type": "stream",
     "text": [
      "neighbours: 9; p: 4 0.8181818181818182\n"
     ]
    },
    {
     "name": "stderr",
     "output_type": "stream",
     "text": [
      "C:\\Users\\Kuba\\anaconda3\\lib\\site-packages\\sklearn\\neighbors\\_classification.py:211: FutureWarning: Unlike other reduction functions (e.g. `skew`, `kurtosis`), the default behavior of `mode` typically preserves the axis it acts along. In SciPy 1.11.0, this behavior will change: the default value of `keepdims` will become False, the `axis` over which the statistic is taken will be eliminated, and the value None will no longer be accepted. Set `keepdims` to True or False to avoid this warning.\n",
      "  mode, _ = stats.mode(_y[neigh_ind, k], axis=1)\n"
     ]
    },
    {
     "name": "stdout",
     "output_type": "stream",
     "text": [
      "neighbours: 9; p: 5 0.8506493506493507\n"
     ]
    }
   ],
   "source": [
    "correct_ratios = np.zeros(25)\n",
    "predictions_sklearn = np.zeros(25)\n",
    "predictions_knn = np.zeros(25)\n",
    "for i in range(5):\n",
    "    for j in range(5):\n",
    "        knn_classifier = KNeighborsClassifier(n_neighbors=2*i+1, p=j+1)\n",
    "        knn_classifier.fit(X_train, y_train)\n",
    "        prediction2 = knn_classifier.predict(X_test)\n",
    "        predictions_sklearn[5*i+j] = np.mean(prediction2 == y_test)\n",
    "        prediction1 = knn(X_train.values,y_train.values,X_test.values,i+1,j+1)\n",
    "        predictions_knn[5*i+j] = np.mean(prediction1 == y_test)\n",
    "        correct_ratios[5*i+j] = np.sum(prediction1 == prediction2)/len(X_test)\n",
    "        print(f'neighbours: {2*i+1}; p: {j+1}',correct_ratios[i+j])"
   ]
  },
  {
   "cell_type": "code",
   "execution_count": 55,
   "id": "77d58e87",
   "metadata": {},
   "outputs": [
    {
     "name": "stdout",
     "output_type": "stream",
     "text": [
      "Średnia: 0.91,\n",
      "Mediana: 0.9,\n",
      "Odchylenie standardowe: 0.05\n"
     ]
    }
   ],
   "source": [
    "print(f'Średnia: {round(correct_ratios.mean(),2)},\\nMediana: {round(np.median(correct_ratios),2)},\\nOdchylenie standardowe: {round(np.std(correct_ratios),2)}')"
   ]
  },
  {
   "cell_type": "code",
   "execution_count": 48,
   "id": "62feabe3",
   "metadata": {
    "scrolled": false
   },
   "outputs": [
    {
     "data": {
      "image/png": "[encoded data removed]",
      "text/plain": [
       "<Figure size 432x288 with 1 Axes>"
      ]
     },
     "metadata": {
      "needs_background": "light"
     },
     "output_type": "display_data"
    }
   ],
   "source": [
    "plt.hist(correct_ratios, bins=10, color='blue', edgecolor='black')\n",
    "plt.xlabel('Odsetek identycznych rezultatów')\n",
    "plt.savefig('correct_ratios1.pdf')"
   ]
  },
  {
   "cell_type": "markdown",
   "id": "1035e92c",
   "metadata": {},
   "source": [
    "## Porównanie czasów wykonania"
   ]
  },
  {
   "cell_type": "code",
   "execution_count": 57,
   "id": "ceb8463b",
   "metadata": {},
   "outputs": [],
   "source": [
    "import time\n",
    "\n",
    "times_sklearn = np.zeros(25)\n",
    "times_knn = np.zeros(25)\n",
    "\n",
    "for i in range(5):\n",
    "    for j in range(5):\n",
    "        start_time = time.time()\n",
    "        knn_classifier = KNeighborsClassifier(n_neighbors=2*i+1, p=j+1)\n",
    "        knn_classifier.fit(X_train, y_train)\n",
    "        end_time = time.time()\n",
    "        execution_time = end_time - start_time\n",
    "        times_sklearn[5*i+j] = execution_time\n",
    "        \n",
    "        start_time = time.time()\n",
    "        knn(X_train.values,y_train.values,X_test.values,i+1,j+1)\n",
    "        end_time = time.time()\n",
    "        execution_time = end_time - start_time\n",
    "        times_sklearn[5*i+j] = execution_time"
   ]
  },
  {
   "cell_type": "code",
   "execution_count": 73,
   "id": "98631e92",
   "metadata": {},
   "outputs": [
    {
     "data": {
      "image/png": "[encoded data removed]",
      "text/plain": [
       "<Figure size 432x288 with 1 Axes>"
      ]
     },
     "metadata": {
      "needs_background": "light"
     },
     "output_type": "display_data"
    }
   ],
   "source": [
    "plt.hist(times_sklearn, bins=10, color='blue', alpha=0.7, label='Sklearn')\n",
    "plt.hist(times_knn, bins=10, color='orange', alpha=0.7, label='knn')\n",
    "plt.xlabel('Czas wykonania [sekundy]')\n",
    "plt.legend()\n",
    "plt.xlim(0,1.25)\n",
    "plt.savefig('times.pdf')"
   ]
  },
  {
   "cell_type": "markdown",
   "id": "580ce976",
   "metadata": {},
   "source": [
    "## Ocena efektywności modeli"
   ]
  },
  {
   "cell_type": "code",
   "execution_count": 70,
   "id": "650422c4",
   "metadata": {},
   "outputs": [
    {
     "data": {
      "text/plain": [
       "array([0.68831169, 0.69480519, 0.68181818, 0.66233766, 0.65584416,\n",
       "       0.7012987 , 0.72077922, 0.71428571, 0.73376623, 0.74675325,\n",
       "       0.72077922, 0.72727273, 0.72727273, 0.74675325, 0.74025974,\n",
       "       0.74025974, 0.75324675, 0.75974026, 0.75324675, 0.75974026,\n",
       "       0.70779221, 0.73376623, 0.74025974, 0.73376623, 0.72727273])"
      ]
     },
     "execution_count": 70,
     "metadata": {},
     "output_type": "execute_result"
    }
   ],
   "source": [
    "predictions_sklearn"
   ]
  },
  {
   "cell_type": "code",
   "execution_count": 71,
   "id": "8be07072",
   "metadata": {},
   "outputs": [
    {
     "data": {
      "text/plain": [
       "array([0.68831169, 0.69480519, 0.68181818, 0.66233766, 0.65584416,\n",
       "       0.68831169, 0.66233766, 0.62337662, 0.67532468, 0.66883117,\n",
       "       0.7012987 , 0.72077922, 0.71428571, 0.73376623, 0.74675325,\n",
       "       0.72077922, 0.72077922, 0.70779221, 0.68181818, 0.71428571,\n",
       "       0.72077922, 0.72727273, 0.72727273, 0.74675325, 0.74025974])"
      ]
     },
     "execution_count": 71,
     "metadata": {},
     "output_type": "execute_result"
    }
   ],
   "source": [
    "predictions_knn"
   ]
  },
  {
   "cell_type": "code",
   "execution_count": 76,
   "id": "cea9e308",
   "metadata": {
    "scrolled": true
   },
   "outputs": [
    {
     "data": {
      "image/png": "[encoded data removed]",
      "text/plain": [
       "<Figure size 432x288 with 1 Axes>"
      ]
     },
     "metadata": {
      "needs_background": "light"
     },
     "output_type": "display_data"
    }
   ],
   "source": [
    "plt.hist(predictions_sklearn, bins=10, color='blue', alpha=0.7, label='Sklearn')\n",
    "plt.hist(predictions_knn, bins=10, color='orange', alpha=0.7, label='knn')\n",
    "plt.xlabel('Frakcja poprawnie sklasyfikowanych')\n",
    "plt.legend()\n",
    "plt.savefig('quality.pdf')"
   ]
  },
  {
   "cell_type": "code",
   "execution_count": 77,
   "id": "69c2e9af",
   "metadata": {},
   "outputs": [
    {
     "name": "stdout",
     "output_type": "stream",
     "text": [
      "SKLEARN\n",
      "Średnia: 0.72,\n",
      "Mediana: 0.73,\n",
      "Odchylenie standardowe: 0.03\n",
      "KNN\n",
      "Średnia: 0.7,\n",
      "Mediana: 0.71,\n",
      "Odchylenie standardowe: 0.03\n"
     ]
    }
   ],
   "source": [
    "print(f'SKLEARN\\nŚrednia: {round(predictions_sklearn.mean(),2)},\\nMediana: {round(np.median(predictions_sklearn),2)},\\nOdchylenie standardowe: {round(np.std(predictions_sklearn),2)}')\n",
    "print(f'KNN\\nŚrednia: {round(predictions_knn.mean(),2)},\\nMediana: {round(np.median(predictions_knn),2)},\\nOdchylenie standardowe: {round(np.std(predictions_knn),2)}')\n"
   ]
  }
 ],
 "metadata": {
  "kernelspec": {
   "display_name": "Python 3",
   "language": "python",
   "name": "python3"
  },
  "language_info": {
   "codemirror_mode": {
    "name": "ipython",
    "version": 3
   },
   "file_extension": ".py",
   "mimetype": "text/x-python",
   "name": "python",
   "nbconvert_exporter": "python",
   "pygments_lexer": "ipython3",
   "version": "3.8.8"
  }
 },
 "nbformat": 4,
 "nbformat_minor": 5
}
